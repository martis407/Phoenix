{
  "nbformat": 4,
  "nbformat_minor": 0,
  "metadata": {
    "colab": {
      "name": "Phoenix_Salary.ipynb 2014,2020",
      "provenance": [],
      "collapsed_sections": [],
      "authorship_tag": "ABX9TyMQ4wF+VIPOemeCd4otn3Xy",
      "include_colab_link": true
    },
    "kernelspec": {
      "name": "python3",
      "display_name": "Python 3"
    },
    "language_info": {
      "name": "python"
    }
  },
  "cells": [
    {
      "cell_type": "markdown",
      "metadata": {
        "id": "view-in-github",
        "colab_type": "text"
      },
      "source": [
        "<a href=\"https://colab.research.google.com/github/martis407/Phoenix/blob/main/Phoenix_Salary_ipynb_2014%2C2020.ipynb\" target=\"_parent\"><img src=\"https://colab.research.google.com/assets/colab-badge.svg\" alt=\"Open In Colab\"/></a>"
      ]
    },
    {
      "cell_type": "markdown",
      "metadata": {
        "id": "HCZZDcz7sadQ"
      },
      "source": [
        "### City of Phoenix Employee Salaries 2014 and 2020\n",
        "\n",
        "Found on the City of Phoenix Open Data website.\n",
        "The data is a fairly simple dataset that includes first and last name, occupation, and salary amount for their particular year.\n",
        "The data is available for employees working full-time for the City of Phoenix. This includes those that are training and up to the city manager.\n",
        "\n",
        "\n",
        "*Notes: This is not the full population of the employees, as their website boasts over 13K employees but the provided datasets contain a bit under this number. It might be that some are employeed part-time.\n",
        "[Maricopa Human Resources](https://www.maricopa.gov/5264/Human-Resources#:~:text=It%20takes%20innovative%20people%20to,heart%20of%20our%20vibrant%20organization!)\n",
        "\n",
        "## Hypothesis: \n",
        "\n",
        "**We want to check if the salary increase accross the employees of City of Phoenix varies significantly or not.** We want to divide them into two groups: Above average paid against below average paid. The way we define high paid employees was not by the Maricopa county median income, but by the Maricopa County employee's average income.\n",
        "\n",
        "$H_o$: There is no difference in salary increase between above average and below average income earners. \n",
        "\n",
        "$H_a$: There is a difference in salary increase between high income and low income earners.\n",
        "\n",
        "$a = .05 $ significance level"
      ]
    },
    {
      "cell_type": "markdown",
      "metadata": {
        "id": "l70OL-XCW34r"
      },
      "source": [
        "## Importing Data\n",
        "\n",
        "Data is available from 2014 to 2020. I decided to only use data for 2014 and 2020, as I hoped to capture those that remain employed by the City of Phoenix. My assumption is that the employees that remain in their position are both happy with their work and doing well, so they will be more likely to get salary increases. For this reason, I used only those two datasets. It is a span of 7 years. Those that did not get pay raises might not remain, and look for raises by gaining different employment elsewhere."
      ]
    },
    {
      "cell_type": "code",
      "metadata": {
        "id": "f0BoE4q_sNq4"
      },
      "source": [
        "import pandas as pd\n",
        "import matplotlib.pyplot as plt\n",
        "\n",
        "# Our data url\n",
        "# Can be found on the City of Phoenix webpage: https://www.phoenixopendata.com/\n",
        "\n",
        "data_url2020 = 'https://www.phoenixopendata.com/dataset/0c02bbfd-08d9-41e9-a00c-97848a9f7350/resource/4d8c9800-8054-4c11-8a13-b9b5bd0511dc/download/open-data-portal-staff-salaries-dec-2020.csv'\n",
        "data_url2014 = 'https://www.phoenixopendata.com/dataset/0c02bbfd-08d9-41e9-a00c-97848a9f7350/resource/0df2ef57-6ef6-4607-b3ff-64b3b2a817bd/download/staff-city-employee-salary-2014.csv'"
      ],
      "execution_count": null,
      "outputs": []
    },
    {
      "cell_type": "markdown",
      "metadata": {
        "id": "4ps1sKY0gEig"
      },
      "source": [
        "## 2014 and 2020\n",
        "\n",
        "\n",
        "The datasets have different column names so we will be reassigning the names, and drop the benefit type column that is only available in the 2020 dataset. \n",
        "\n",
        "The **new columns names** will be:<br>\n",
        "*last_name, first_name, descr, annual_rate*\n",
        "\n",
        "**Added columns**: <br>\n",
        "We will be creating a new column that has the full name of the person and also has the description of their work to uniquely identify each person.\n",
        "\n",
        "*full_name_descr*\n"
      ]
    },
    {
      "cell_type": "code",
      "metadata": {
        "id": "VGDiYa-p5Bgi"
      },
      "source": [
        "# The column names for the 2014 and 2020 dataset\n",
        "col_names14 = ['last_name','first_name','descr','annual_rate2014']\n",
        "col_names20 = ['last_name','first_name','descr','annual_rate2020','drop']"
      ],
      "execution_count": null,
      "outputs": []
    },
    {
      "cell_type": "code",
      "metadata": {
        "id": "_SkdnxVWraUd",
        "colab": {
          "base_uri": "https://localhost:8080/",
          "height": 95
        },
        "outputId": "b6a8f7c0-682f-498e-81b0-1392df6c8fcd"
      },
      "source": [
        "# Reading in the 2020 dataset and dropping the 'benefit' (renamed drop) column\n",
        "\n",
        "salary_2020 = pd.read_csv(data_url2020, header=0, names=col_names20).drop('drop', axis='columns')\n",
        "\n",
        "# Creating the unique identifier\n",
        "salary_2020['full_name_descr'] = salary_2020.last_name + ' ' + salary_2020.first_name + ' ' + salary_2020.descr\n",
        "\n",
        "# Let's print out how many we have and view the data's first entry\n",
        "print('Salary 2020 Shape:',salary_2020.shape)\n",
        "salary_2020.head(1)"
      ],
      "execution_count": null,
      "outputs": [
        {
          "output_type": "stream",
          "text": [
            "Salary 2020 Shape: (12761, 5)\n"
          ],
          "name": "stdout"
        },
        {
          "output_type": "execute_result",
          "data": {
            "text/html": [
              "<div>\n",
              "<style scoped>\n",
              "    .dataframe tbody tr th:only-of-type {\n",
              "        vertical-align: middle;\n",
              "    }\n",
              "\n",
              "    .dataframe tbody tr th {\n",
              "        vertical-align: top;\n",
              "    }\n",
              "\n",
              "    .dataframe thead th {\n",
              "        text-align: right;\n",
              "    }\n",
              "</style>\n",
              "<table border=\"1\" class=\"dataframe\">\n",
              "  <thead>\n",
              "    <tr style=\"text-align: right;\">\n",
              "      <th></th>\n",
              "      <th>last_name</th>\n",
              "      <th>first_name</th>\n",
              "      <th>descr</th>\n",
              "      <th>annual_rate2020</th>\n",
              "      <th>full_name_descr</th>\n",
              "    </tr>\n",
              "  </thead>\n",
              "  <tbody>\n",
              "    <tr>\n",
              "      <th>0</th>\n",
              "      <td>Aamodt</td>\n",
              "      <td>Gail</td>\n",
              "      <td>Police Officer</td>\n",
              "      <td>76752.0</td>\n",
              "      <td>Aamodt Gail Police Officer</td>\n",
              "    </tr>\n",
              "  </tbody>\n",
              "</table>\n",
              "</div>"
            ],
            "text/plain": [
              "  last_name first_name  ... annual_rate2020             full_name_descr\n",
              "0    Aamodt       Gail  ...         76752.0  Aamodt Gail Police Officer\n",
              "\n",
              "[1 rows x 5 columns]"
            ]
          },
          "metadata": {
            "tags": []
          },
          "execution_count": 3
        }
      ]
    },
    {
      "cell_type": "code",
      "metadata": {
        "colab": {
          "base_uri": "https://localhost:8080/"
        },
        "id": "cFGdIvp_90Jo",
        "outputId": "c81e37ad-18d4-4c90-f03d-b51c6473a055"
      },
      "source": [
        "# Now we will be dropping the duplicates\n",
        "salary_2020 = salary_2020.drop_duplicates()\n",
        "salary_2020.shape"
      ],
      "execution_count": null,
      "outputs": [
        {
          "output_type": "execute_result",
          "data": {
            "text/plain": [
              "(12753, 5)"
            ]
          },
          "metadata": {
            "tags": []
          },
          "execution_count": 21
        }
      ]
    },
    {
      "cell_type": "code",
      "metadata": {
        "colab": {
          "base_uri": "https://localhost:8080/",
          "height": 294
        },
        "id": "E5LudHI-imBt",
        "outputId": "1864c478-b7fa-4e9e-f3c2-093a29ba64e6"
      },
      "source": [
        "salary.annual_rate2020.hist(bins=15, grid=False)\n",
        "plt.ylabel('Number of Employees')\n",
        "plt.xlabel('Salary in USD')\n",
        "plt.title('City of Phoenix Employee Salary Distribution for 2020')\n",
        "plt.show()"
      ],
      "execution_count": null,
      "outputs": [
        {
          "output_type": "display_data",
          "data": {
            "image/png": "[encoded data removed]",
            "text/plain": [
              "<Figure size 432x288 with 1 Axes>"
            ]
          },
          "metadata": {
            "tags": [],
            "needs_background": "light"
          }
        }
      ]
    },
    {
      "cell_type": "code",
      "metadata": {
        "id": "YPqQlTGns229",
        "colab": {
          "base_uri": "https://localhost:8080/",
          "height": 95
        },
        "outputId": "f7db06b0-4c68-452f-ad25-9ffa46db9394"
      },
      "source": [
        "# Next read in the 2014 dataset\n",
        "\n",
        "salary_2014 = pd.read_csv(data_url2014, header=0, names=col_names14)\n",
        "\n",
        "# Creating the unique identifier\n",
        "salary_2014['full_name_descr'] = salary_2014.last_name + ' ' + salary_2014.first_name + ' ' + salary_2014.descr\n",
        "\n",
        "# Let's print out how many we have and view the data's first entry\n",
        "print('Salary 2014 shape:', salary_2014.shape)\n",
        "salary_2014.head(1)"
      ],
      "execution_count": null,
      "outputs": [
        {
          "output_type": "stream",
          "text": [
            "Salary 2014 shape: (12082, 5)\n"
          ],
          "name": "stdout"
        },
        {
          "output_type": "execute_result",
          "data": {
            "text/html": [
              "<div>\n",
              "<style scoped>\n",
              "    .dataframe tbody tr th:only-of-type {\n",
              "        vertical-align: middle;\n",
              "    }\n",
              "\n",
              "    .dataframe tbody tr th {\n",
              "        vertical-align: top;\n",
              "    }\n",
              "\n",
              "    .dataframe thead th {\n",
              "        text-align: right;\n",
              "    }\n",
              "</style>\n",
              "<table border=\"1\" class=\"dataframe\">\n",
              "  <thead>\n",
              "    <tr style=\"text-align: right;\">\n",
              "      <th></th>\n",
              "      <th>last_name</th>\n",
              "      <th>first_name</th>\n",
              "      <th>descr</th>\n",
              "      <th>annual_rate2014</th>\n",
              "      <th>full_name_descr</th>\n",
              "    </tr>\n",
              "  </thead>\n",
              "  <tbody>\n",
              "    <tr>\n",
              "      <th>0</th>\n",
              "      <td>Aamodt</td>\n",
              "      <td>Gail</td>\n",
              "      <td>Police Officer</td>\n",
              "      <td>72425.6</td>\n",
              "      <td>Aamodt Gail Police Officer</td>\n",
              "    </tr>\n",
              "  </tbody>\n",
              "</table>\n",
              "</div>"
            ],
            "text/plain": [
              "  last_name first_name  ... annual_rate2014             full_name_descr\n",
              "0    Aamodt       Gail  ...         72425.6  Aamodt Gail Police Officer\n",
              "\n",
              "[1 rows x 5 columns]"
            ]
          },
          "metadata": {
            "tags": []
          },
          "execution_count": 5
        }
      ]
    },
    {
      "cell_type": "code",
      "metadata": {
        "colab": {
          "base_uri": "https://localhost:8080/"
        },
        "id": "S_MY0634PGTa",
        "outputId": "5d5debc7-7cd9-48a2-930f-7cb73c2c1b42"
      },
      "source": [
        "# Now we will be dropping the duplicates\n",
        "salary_2014 = salary_2014.drop_duplicates()\n",
        "print(salary_2014.shape)"
      ],
      "execution_count": null,
      "outputs": [
        {
          "output_type": "stream",
          "text": [
            "(12062, 5)\n"
          ],
          "name": "stdout"
        }
      ]
    },
    {
      "cell_type": "code",
      "metadata": {
        "colab": {
          "base_uri": "https://localhost:8080/",
          "height": 294
        },
        "id": "tya0-uZiiDKp",
        "outputId": "4db71396-91be-4e8e-9744-83fd2de82887"
      },
      "source": [
        "salary.annual_rate2014.hist(bins=15, grid=False)\n",
        "plt.ylabel('Number of Employees')\n",
        "plt.xlabel('Salary in USD')\n",
        "plt.title('City of Phoenix Employee Salary Distribution for 2014')\n",
        "plt.show()"
      ],
      "execution_count": null,
      "outputs": [
        {
          "output_type": "display_data",
          "data": {
            "image/png": "[encoded data removed]",
            "text/plain": [
              "<Figure size 432x288 with 1 Axes>"
            ]
          },
          "metadata": {
            "tags": [],
            "needs_background": "light"
          }
        }
      ]
    },
    {
      "cell_type": "markdown",
      "metadata": {
        "id": "zNEPksE9gLdS"
      },
      "source": [
        "## Combining the datasets\n",
        "\n",
        "Now we will be adding the salary from 2014 into 2020. It will be an inner merge to keep only employees that have stayed with the City of Phoenix. We will be using the *full_name_descr* to merge them, as this is our unique identifier."
      ]
    },
    {
      "cell_type": "code",
      "metadata": {
        "colab": {
          "base_uri": "https://localhost:8080/",
          "height": 215
        },
        "id": "-PxD5OFuYlZJ",
        "outputId": "11422171-71f6-49cd-8366-2cfc12af71bb"
      },
      "source": [
        "# We will include the first few columns, otherwise they'll be duplicated\n",
        "\n",
        "salary = salary_2020.merge(salary_2014, how='inner', on=['last_name','first_name','descr','full_name_descr'])\n",
        "print(salary.shape)\n",
        "salary.head()"
      ],
      "execution_count": null,
      "outputs": [
        {
          "output_type": "stream",
          "text": [
            "(4767, 6)\n"
          ],
          "name": "stdout"
        },
        {
          "output_type": "execute_result",
          "data": {
            "text/html": [
              "<div>\n",
              "<style scoped>\n",
              "    .dataframe tbody tr th:only-of-type {\n",
              "        vertical-align: middle;\n",
              "    }\n",
              "\n",
              "    .dataframe tbody tr th {\n",
              "        vertical-align: top;\n",
              "    }\n",
              "\n",
              "    .dataframe thead th {\n",
              "        text-align: right;\n",
              "    }\n",
              "</style>\n",
              "<table border=\"1\" class=\"dataframe\">\n",
              "  <thead>\n",
              "    <tr style=\"text-align: right;\">\n",
              "      <th></th>\n",
              "      <th>last_name</th>\n",
              "      <th>first_name</th>\n",
              "      <th>descr</th>\n",
              "      <th>annual_rate2020</th>\n",
              "      <th>full_name_descr</th>\n",
              "      <th>annual_rate2014</th>\n",
              "    </tr>\n",
              "  </thead>\n",
              "  <tbody>\n",
              "    <tr>\n",
              "      <th>0</th>\n",
              "      <td>Aamodt</td>\n",
              "      <td>Gail</td>\n",
              "      <td>Police Officer</td>\n",
              "      <td>76752.00</td>\n",
              "      <td>Aamodt Gail Police Officer</td>\n",
              "      <td>72425.60</td>\n",
              "    </tr>\n",
              "    <tr>\n",
              "      <th>1</th>\n",
              "      <td>Abbitt</td>\n",
              "      <td>Ryan</td>\n",
              "      <td>Firefighter 56hr</td>\n",
              "      <td>70042.34</td>\n",
              "      <td>Abbitt Ryan Firefighter 56hr</td>\n",
              "      <td>59299.97</td>\n",
              "    </tr>\n",
              "    <tr>\n",
              "      <th>2</th>\n",
              "      <td>Abbott</td>\n",
              "      <td>Christie</td>\n",
              "      <td>Forensic Scientist IV</td>\n",
              "      <td>104000.00</td>\n",
              "      <td>Abbott Christie Forensic Scientist IV</td>\n",
              "      <td>85404.80</td>\n",
              "    </tr>\n",
              "    <tr>\n",
              "      <th>3</th>\n",
              "      <td>Abdull-Fattah</td>\n",
              "      <td>Rouba</td>\n",
              "      <td>GIS Coordinator</td>\n",
              "      <td>89544.00</td>\n",
              "      <td>Abdull-Fattah Rouba GIS Coordinator</td>\n",
              "      <td>85404.80</td>\n",
              "    </tr>\n",
              "    <tr>\n",
              "      <th>4</th>\n",
              "      <td>Abeyta</td>\n",
              "      <td>Manuel</td>\n",
              "      <td>Police Officer</td>\n",
              "      <td>76752.00</td>\n",
              "      <td>Abeyta Manuel Police Officer</td>\n",
              "      <td>72425.60</td>\n",
              "    </tr>\n",
              "  </tbody>\n",
              "</table>\n",
              "</div>"
            ],
            "text/plain": [
              "       last_name  ... annual_rate2014\n",
              "0         Aamodt  ...        72425.60\n",
              "1         Abbitt  ...        59299.97\n",
              "2         Abbott  ...        85404.80\n",
              "3  Abdull-Fattah  ...        85404.80\n",
              "4         Abeyta  ...        72425.60\n",
              "\n",
              "[5 rows x 6 columns]"
            ]
          },
          "metadata": {
            "tags": []
          },
          "execution_count": 25
        }
      ]
    },
    {
      "cell_type": "markdown",
      "metadata": {
        "id": "y3FskN3mjWKu"
      },
      "source": [
        "We are left with about 40% of about the 12,000 employees we originally started with. This new dataset is now only the employees that have stayed with the City of Phoenix."
      ]
    },
    {
      "cell_type": "markdown",
      "metadata": {
        "id": "ZCARsb6izZnv"
      },
      "source": [
        "## Data features\n",
        "\n",
        "The next step is to create the average salary from both years. "
      ]
    },
    {
      "cell_type": "code",
      "metadata": {
        "colab": {
          "base_uri": "https://localhost:8080/"
        },
        "id": "S9YGUy3Hh5Ll",
        "outputId": "0bbca316-99f4-4b25-97df-f99e1c96d36a"
      },
      "source": [
        "# The average Salary\n",
        "avg_salary14 = round(salary.annual_rate2014.mean())\n",
        "avg_salary20 = round(salary.annual_rate2020.mean())\n",
        "avg_salary = (avg_salary14 + avg_salary20)/2\n",
        "print('The average salary for 2014:', avg_salary14)\n",
        "print('The average salary for 2020:', avg_salary20)\n",
        "print('The average salary for both:', avg_salary)"
      ],
      "execution_count": null,
      "outputs": [
        {
          "output_type": "stream",
          "text": [
            "The average salary for 2014: 65815\n",
            "The average salary for 2020: 71771\n",
            "The average salary for both: 68793.0\n"
          ],
          "name": "stdout"
        }
      ]
    },
    {
      "cell_type": "markdown",
      "metadata": {
        "id": "niF6eRPb0ucf"
      },
      "source": [
        "# Dividing the data\n",
        "Next is to divide salary into two: above and below average income. \n",
        "In our data we will call it *high_income*. \n",
        "Those are above average will have a '1' while those that do not will have a '0'.\n",
        "\n",
        "The next step is to see if this division is balanced.\n"
      ]
    },
    {
      "cell_type": "code",
      "metadata": {
        "id": "UcyWy06kbzTc"
      },
      "source": [
        "salary.loc[salary['annual_rate2014'] > avg_salary, 'high_income'] = 1\n",
        "salary.loc[salary['annual_rate2014'] <= avg_salary, 'high_income'] = 0"
      ],
      "execution_count": null,
      "outputs": []
    },
    {
      "cell_type": "code",
      "metadata": {
        "colab": {
          "base_uri": "https://localhost:8080/",
          "height": 137
        },
        "id": "a4KJckAfjTbq",
        "outputId": "dc7aa527-306d-43ca-9821-e423fa85e227"
      },
      "source": [
        "# Let's make sure the criteria was applied\n",
        "salary.head(3)"
      ],
      "execution_count": null,
      "outputs": [
        {
          "output_type": "execute_result",
          "data": {
            "text/html": [
              "<div>\n",
              "<style scoped>\n",
              "    .dataframe tbody tr th:only-of-type {\n",
              "        vertical-align: middle;\n",
              "    }\n",
              "\n",
              "    .dataframe tbody tr th {\n",
              "        vertical-align: top;\n",
              "    }\n",
              "\n",
              "    .dataframe thead th {\n",
              "        text-align: right;\n",
              "    }\n",
              "</style>\n",
              "<table border=\"1\" class=\"dataframe\">\n",
              "  <thead>\n",
              "    <tr style=\"text-align: right;\">\n",
              "      <th></th>\n",
              "      <th>last_name</th>\n",
              "      <th>first_name</th>\n",
              "      <th>descr</th>\n",
              "      <th>annual_rate2020</th>\n",
              "      <th>full_name_descr</th>\n",
              "      <th>annual_rate2014</th>\n",
              "      <th>high_income</th>\n",
              "    </tr>\n",
              "  </thead>\n",
              "  <tbody>\n",
              "    <tr>\n",
              "      <th>0</th>\n",
              "      <td>Aamodt</td>\n",
              "      <td>Gail</td>\n",
              "      <td>Police Officer</td>\n",
              "      <td>76752.00</td>\n",
              "      <td>Aamodt Gail Police Officer</td>\n",
              "      <td>72425.60</td>\n",
              "      <td>1.0</td>\n",
              "    </tr>\n",
              "    <tr>\n",
              "      <th>1</th>\n",
              "      <td>Abbitt</td>\n",
              "      <td>Ryan</td>\n",
              "      <td>Firefighter 56hr</td>\n",
              "      <td>70042.34</td>\n",
              "      <td>Abbitt Ryan Firefighter 56hr</td>\n",
              "      <td>59299.97</td>\n",
              "      <td>0.0</td>\n",
              "    </tr>\n",
              "    <tr>\n",
              "      <th>2</th>\n",
              "      <td>Abbott</td>\n",
              "      <td>Christie</td>\n",
              "      <td>Forensic Scientist IV</td>\n",
              "      <td>104000.00</td>\n",
              "      <td>Abbott Christie Forensic Scientist IV</td>\n",
              "      <td>85404.80</td>\n",
              "      <td>1.0</td>\n",
              "    </tr>\n",
              "  </tbody>\n",
              "</table>\n",
              "</div>"
            ],
            "text/plain": [
              "  last_name first_name  ... annual_rate2014  high_income\n",
              "0    Aamodt       Gail  ...        72425.60          1.0\n",
              "1    Abbitt       Ryan  ...        59299.97          0.0\n",
              "2    Abbott   Christie  ...        85404.80          1.0\n",
              "\n",
              "[3 rows x 7 columns]"
            ]
          },
          "metadata": {
            "tags": []
          },
          "execution_count": 48
        }
      ]
    },
    {
      "cell_type": "code",
      "metadata": {
        "colab": {
          "base_uri": "https://localhost:8080/"
        },
        "id": "hmDjx79y1MQ-",
        "outputId": "0d81f952-d05b-4b35-d6c3-a40857328b40"
      },
      "source": [
        "# Let's check the balance of how many are in each category\n",
        "print('Amount in each category')\n",
        "print(pd.crosstab(salary.high_income,columns='high_income'))\n",
        "\n",
        "print('\\nPercentage-wise in each category')\n",
        "print(round(pd.crosstab(salary.high_income,columns='high_income',normalize=True)*100,2))"
      ],
      "execution_count": null,
      "outputs": [
        {
          "output_type": "stream",
          "text": [
            "Amount in each category\n",
            "col_0        high_income\n",
            "high_income             \n",
            "0.0                 2113\n",
            "1.0                 2654\n",
            "\n",
            "Percentage-wise\n",
            "col_0        high_income\n",
            "high_income             \n",
            "0.0                44.33\n",
            "1.0                55.67\n"
          ],
          "name": "stdout"
        }
      ]
    },
    {
      "cell_type": "markdown",
      "metadata": {
        "id": "BRK36a3t1OOn"
      },
      "source": [
        "There is about 6% more in the high income category. Overall it is balanced."
      ]
    },
    {
      "cell_type": "markdown",
      "metadata": {
        "id": "LdJ-tV1m4uFy"
      },
      "source": [
        "## Finding the salary increase\n",
        "Next we will calcualte the salary increase by subtracting the salary rate in 2014 from the 2020 year. Then the difference will be added as a new column *salary_increase*."
      ]
    },
    {
      "cell_type": "code",
      "metadata": {
        "colab": {
          "base_uri": "https://localhost:8080/"
        },
        "id": "jH8UqwyQXJa1",
        "outputId": "8972a05c-4972-4540-9f8d-46971e33e5f2"
      },
      "source": [
        "# We will substract the difference and assign it to a new variable \n",
        "salary['salary_increase'] = salary['annual_rate2020'] - salary['annual_rate2014']\n",
        "salary['salary_increase'].describe()"
      ],
      "execution_count": null,
      "outputs": [
        {
          "output_type": "execute_result",
          "data": {
            "text/plain": [
              "count     4767.000000\n",
              "mean      5955.654212\n",
              "std       5278.093863\n",
              "min     -70553.080000\n",
              "25%       3494.400000\n",
              "50%       4326.400000\n",
              "75%       6552.000000\n",
              "max      75011.560000\n",
              "Name: salary_increase, dtype: float64"
            ]
          },
          "metadata": {
            "tags": []
          },
          "execution_count": 72
        }
      ]
    },
    {
      "cell_type": "code",
      "metadata": {
        "colab": {
          "base_uri": "https://localhost:8080/",
          "height": 294
        },
        "id": "fPH1dWJNlbmC",
        "outputId": "cbbccfaa-eafc-4a24-e6d6-8d565757307f"
      },
      "source": [
        "salary.salary_increase.hist(bins=2, grid=False)\n",
        "plt.title('Most Employees Get Salary Increases')\n",
        "plt.xlabel('Salary Change')\n",
        "plt.ylabel('Count of Employees')\n",
        "plt.show()\n",
        "\n",
        "# LET'S MAKE ONE PART RED IF WE CAN\n",
        "#https://stackoverflow.com/questions/58972548/plot-histogram-using-python-with-different-colors-for-positive-and-negative-valu"
      ],
      "execution_count": null,
      "outputs": [
        {
          "output_type": "display_data",
          "data": {
            "image/png": "[encoded data removed]",
            "text/plain": [
              "<Figure size 432x288 with 1 Axes>"
            ]
          },
          "metadata": {
            "tags": [],
            "needs_background": "light"
          }
        }
      ]
    },
    {
      "cell_type": "code",
      "metadata": {
        "colab": {
          "base_uri": "https://localhost:8080/"
        },
        "id": "2fvyDMOnjreZ",
        "outputId": "7c77311b-338c-4504-e769-c3706222e391"
      },
      "source": [
        "print('Amount with declining salaries:', len(salary[salary['salary_increase'] <= 0 ]))\n",
        "\n",
        "# salary[(salary.salary_increase <= 0) & (salary.high_income == 0)"
      ],
      "execution_count": null,
      "outputs": [
        {
          "output_type": "stream",
          "text": [
            "Amount with declining salaries: 35\n"
          ],
          "name": "stdout"
        }
      ]
    },
    {
      "cell_type": "markdown",
      "metadata": {
        "id": "wtQZvyFp7fJ7"
      },
      "source": [
        "35 employees found themselves with less income over the last 7 years. Although unfortunate, we will not include them in our analysis. "
      ]
    },
    {
      "cell_type": "markdown",
      "metadata": {
        "id": "i5_XA0V07rk1"
      },
      "source": [
        "## Average salary increase by group\n",
        "Next we will compare the average increase in salary for both groups."
      ]
    },
    {
      "cell_type": "code",
      "metadata": {
        "colab": {
          "base_uri": "https://localhost:8080/"
        },
        "id": "zcblv2tyuOVx",
        "outputId": "f35c50f5-bbc8-41a2-90d5-61e6d01ff586"
      },
      "source": [
        "mean_high_income_increase = salary.salary_increase[(salary.salary_increase >= 0) & (salary.high_income == 1)].mean()\n",
        "\n",
        "mean_low_income_increase = salary.salary_increase[(salary.salary_increase >= 0) & salary.high_income == 0].mean()\n",
        "\n",
        "print('The high income average salary increase is', round(mean_high_income_increase, 2))\n",
        "print('The low income average salary increase is', round(mean_low_income_increase, 2))"
      ],
      "execution_count": null,
      "outputs": [
        {
          "output_type": "stream",
          "text": [
            "The high income average salary increase is 6049.36\n",
            "The low income average salary increase is 5829.31\n"
          ],
          "name": "stdout"
        }
      ]
    },
    {
      "cell_type": "markdown",
      "metadata": {
        "id": "QcKgLVWw889M"
      },
      "source": [
        "It seems that there is not a significant salary increase difference on average. To be more precise we will look at both distributions of the groups visually."
      ]
    },
    {
      "cell_type": "code",
      "metadata": {
        "colab": {
          "base_uri": "https://localhost:8080/",
          "height": 330
        },
        "id": "iZDr8VAtE8LM",
        "outputId": "5171e979-25de-48cf-bb21-d52b9bbdca83"
      },
      "source": [
        "high_income_increase.hist(grid=False)\n",
        "print('We have a total of',len(high_income_increase),'employees in this category')\n",
        "plt.title('High Income Salary Increase')\n",
        "plt.ylabel('Employee Count')\n",
        "plt.xlabel('Increase in Dollars $')\n",
        "\n",
        "plt.show()"
      ],
      "execution_count": null,
      "outputs": [
        {
          "output_type": "stream",
          "text": [
            "We have a total of 2737 employees in this category\n"
          ],
          "name": "stdout"
        },
        {
          "output_type": "display_data",
          "data": {
            "image/png": "[encoded data removed]",
            "text/plain": [
              "<Figure size 432x288 with 1 Axes>"
            ]
          },
          "metadata": {
            "tags": [],
            "needs_background": "light"
          }
        },
        {
          "output_type": "stream",
          "text": [
            "The high income average salary increase is 6049.36\n"
          ],
          "name": "stdout"
        }
      ]
    },
    {
      "cell_type": "code",
      "metadata": {
        "colab": {
          "base_uri": "https://localhost:8080/",
          "height": 312
        },
        "id": "lapGoeg0FFlL",
        "outputId": "7b2ffb41-a585-4c6b-8b6d-df058dc55386"
      },
      "source": [
        "low_income_increase.hist(grid=False)\n",
        "\n",
        "print('We have a total of',len(low_income_increase),'employees in this category')\n",
        "\n",
        "plt.title('Low Income Salary Increase')\n",
        "plt.ylabel('Employee Count')\n",
        "plt.xlabel('Increase in Dollars $')\n",
        "plt.show()"
      ],
      "execution_count": null,
      "outputs": [
        {
          "output_type": "stream",
          "text": [
            "We have a total of 2008 employees in this category\n"
          ],
          "name": "stdout"
        },
        {
          "output_type": "display_data",
          "data": {
            "image/png": "[encoded data removed]",
            "text/plain": [
              "<Figure size 432x288 with 1 Axes>"
            ]
          },
          "metadata": {
            "tags": [],
            "needs_background": "light"
          }
        }
      ]
    },
    {
      "cell_type": "markdown",
      "metadata": {
        "id": "46y1EmJrUC8d"
      },
      "source": [
        "# Hypothesis Testing \n",
        "Finally, we will now be conducting a t-test to compare both groups to see if there is a significant difference between them. We will be excluding those with a salary decrease."
      ]
    },
    {
      "cell_type": "code",
      "metadata": {
        "id": "0WfpUEIg_yD8"
      },
      "source": [
        "# First lets put both groups into different variables\n",
        "\n",
        "high_income_increase = salary.salary_increase[(salary.salary_increase >= 0) & (salary.high_income == 1)]\n",
        "low_income_increase = salary.salary_increase[(salary.salary_increase >= 0) & (salary.high_income == 0)]\n"
      ],
      "execution_count": null,
      "outputs": []
    },
    {
      "cell_type": "code",
      "metadata": {
        "id": "JHz5vGlHUIv0",
        "colab": {
          "base_uri": "https://localhost:8080/"
        },
        "outputId": "f90c0e29-e014-49c9-b7d5-90ddc48cc609"
      },
      "source": [
        "# Let's do a T-Test\n",
        "\n",
        "from scipy import stats\n",
        "\n",
        "tval , pval = stats.ttest_ind(high_income_increase,low_income_increase)\n",
        "print('T-value:', tval)\n",
        "print('P-value:', pval)"
      ],
      "execution_count": null,
      "outputs": [
        {
          "output_type": "stream",
          "text": [
            "T-value: 0.07822951779596726\n",
            "P-value: 0.937648782101627\n"
          ],
          "name": "stdout"
        }
      ]
    },
    {
      "cell_type": "code",
      "metadata": {
        "id": "KMCPCL0aRAM8"
      },
      "source": [
        "# P-value with the defining factor for high vs low income being \"Median Income\""
      ],
      "execution_count": null,
      "outputs": []
    },
    {
      "cell_type": "markdown",
      "metadata": {
        "id": "2ZJqjX2AAo1_"
      },
      "source": [
        "## Conclusion"
      ]
    },
    {
      "cell_type": "markdown",
      "metadata": {
        "id": "JGXXZw4zAuFV"
      },
      "source": [
        "We fail to reject the null hypothesis at the 0.05 significance level and conclude the mean salary increase for high income earners and low income earners is not different.\n",
        "\n",
        "\n",
        "**Limitations**\n",
        "We still had some duplicates (some with normal and overtime salaries).\n",
        "Our method of uniquely identifying indivuals did not account for position name change. Some police men were promoted, but since there are many with the same full name we cannot verify who is who.\n",
        "We did not include those with a salary decrease.\n",
        "A vast majority of employees get paid close to the average income, with few that have a big variance.\n",
        "Some people had the same name and occupation, but we dropped the duplicates.\n",
        "\n",
        "**New inquiries**\n",
        "This dataset only accounts for those that stayed with the City of Phoenix. Perhaps some that left got a bigger salary increase halfway through their time in Phoenix. These could also have seen that work elsewhere could be more beneficiall.\n",
        "\n",
        "If recreating this same analysis, 3 groups could work better, low, median and high income groups.\n",
        "\n",
        "\n"
      ]
    },
    {
      "cell_type": "code",
      "metadata": {
        "id": "cFyKqeUOAXqn"
      },
      "source": [
        ""
      ],
      "execution_count": null,
      "outputs": []
    }
  ]
}